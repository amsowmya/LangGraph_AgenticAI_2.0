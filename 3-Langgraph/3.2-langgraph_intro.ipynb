{
 "cells": [
  {
   "cell_type": "code",
   "execution_count": 1,
   "id": "2bfa6425",
   "metadata": {},
   "outputs": [],
   "source": [
    "def function1(input):\n",
    "    return input + \" from function1\""
   ]
  },
  {
   "cell_type": "code",
   "execution_count": 2,
   "id": "531f9ad8",
   "metadata": {},
   "outputs": [],
   "source": [
    "def function2(input):\n",
    "    return input + \" from function2\""
   ]
  },
  {
   "cell_type": "code",
   "execution_count": 3,
   "id": "20886567",
   "metadata": {},
   "outputs": [],
   "source": [
    "def function3(input):\n",
    "    return input + \" from function3\""
   ]
  },
  {
   "cell_type": "code",
   "execution_count": 4,
   "id": "899655f0",
   "metadata": {},
   "outputs": [],
   "source": [
    "from langgraph.graph import Graph"
   ]
  },
  {
   "cell_type": "code",
   "execution_count": 5,
   "id": "0c824347",
   "metadata": {},
   "outputs": [],
   "source": [
    "workflow = Graph()"
   ]
  },
  {
   "cell_type": "code",
   "execution_count": 6,
   "id": "da51073f",
   "metadata": {},
   "outputs": [],
   "source": [
    "workflow.add_node(\"fun1\", function1)\n",
    "workflow.add_node(\"fun2\", function2)\n",
    "\n",
    "workflow.add_edge(\"fun1\", \"fun2\")\n",
    "workflow.set_entry_point(\"fun1\")\n",
    "workflow.set_finish_point(\"fun2\")\n",
    "\n",
    "graph = workflow.compile()"
   ]
  },
  {
   "cell_type": "code",
   "execution_count": 7,
   "id": "6dda219d",
   "metadata": {},
   "outputs": [
    {
     "data": {
      "image/png": "[encoded data removed]",
      "text/plain": [
       "<IPython.core.display.Image object>"
      ]
     },
     "metadata": {},
     "output_type": "display_data"
    }
   ],
   "source": [
    "from IPython.display import display, Image\n",
    "\n",
    "display(Image(graph.get_graph().draw_mermaid_png()))"
   ]
  },
  {
   "cell_type": "code",
   "execution_count": 8,
   "id": "8a63b7f3",
   "metadata": {},
   "outputs": [
    {
     "data": {
      "text/plain": [
       "'hi from function1 from function2'"
      ]
     },
     "execution_count": 8,
     "metadata": {},
     "output_type": "execute_result"
    }
   ],
   "source": [
    "graph.invoke(\"hi\")"
   ]
  },
  {
   "cell_type": "code",
   "execution_count": 9,
   "id": "ac2bf40e",
   "metadata": {},
   "outputs": [
    {
     "name": "stdout",
     "output_type": "stream",
     "text": [
      "Node: fun1\n",
      "hi this is sam from function1\n",
      "-------\n",
      "Node: fun2\n",
      "hi this is sam from function1 from function2\n",
      "-------\n"
     ]
    }
   ],
   "source": [
    "for events in graph.stream(\"hi this is sam\"):\n",
    "    for key, val in events.items():\n",
    "        print(f\"Node: {key}\")\n",
    "        print(val)\n",
    "        print(\"-------\")"
   ]
  },
  {
   "cell_type": "code",
   "execution_count": 10,
   "id": "eecaf022",
   "metadata": {},
   "outputs": [
    {
     "data": {
      "text/plain": [
       "True"
      ]
     },
     "execution_count": 10,
     "metadata": {},
     "output_type": "execute_result"
    }
   ],
   "source": [
    "from langchain_groq.chat_models import ChatGroq\n",
    "from dotenv import load_dotenv\n",
    "import os\n",
    "\n",
    "load_dotenv()"
   ]
  },
  {
   "cell_type": "code",
   "execution_count": 11,
   "id": "22991f49",
   "metadata": {},
   "outputs": [],
   "source": [
    "groq_api_key = os.getenv('GROQ_API_KEY')\n",
    "\n",
    "model = ChatGroq(groq_api_key=groq_api_key, model=\"gemma2-9b-it\")"
   ]
  },
  {
   "cell_type": "code",
   "execution_count": 12,
   "id": "65d730f3",
   "metadata": {},
   "outputs": [
    {
     "data": {
      "text/plain": [
       "'Hello! 👋\\n\\nHow can I help you today? 😊\\n'"
      ]
     },
     "execution_count": 12,
     "metadata": {},
     "output_type": "execute_result"
    }
   ],
   "source": [
    "model.invoke(\"hi\").content"
   ]
  },
  {
   "cell_type": "code",
   "execution_count": 13,
   "id": "cb4a589d",
   "metadata": {},
   "outputs": [],
   "source": [
    "def llm(input):\n",
    "    return model.invoke(input).content"
   ]
  },
  {
   "cell_type": "code",
   "execution_count": 14,
   "id": "b3f3197e",
   "metadata": {},
   "outputs": [],
   "source": [
    "def token_counter(input):\n",
    "    tokens = input.split()\n",
    "    print(tokens)\n",
    "    return f\"Total token number in the generated answer {len(tokens)}\""
   ]
  },
  {
   "cell_type": "code",
   "execution_count": 15,
   "id": "f3d36da4",
   "metadata": {},
   "outputs": [],
   "source": [
    "workflow2 = Graph()\n",
    "\n",
    "workflow2.add_node(\"My_LLM\", llm)\n",
    "workflow2.add_node(\"LLM_Output_Token_Counter\", token_counter)\n",
    "\n",
    "workflow2.add_edge(\"My_LLM\", \"LLM_Output_Token_Counter\")\n",
    "\n",
    "workflow2.set_entry_point(\"My_LLM\")\n",
    "workflow2.set_finish_point(\"LLM_Output_Token_Counter\")\n",
    "\n",
    "app2 = workflow2.compile()"
   ]
  },
  {
   "cell_type": "code",
   "execution_count": 16,
   "id": "088a248f",
   "metadata": {},
   "outputs": [
    {
     "data": {
      "image/png": "[encoded data removed]",
      "text/plain": [
       "<IPython.core.display.Image object>"
      ]
     },
     "metadata": {},
     "output_type": "display_data"
    }
   ],
   "source": [
    "display(Image(app2.get_graph().draw_mermaid_png()))"
   ]
  },
  {
   "cell_type": "code",
   "execution_count": 19,
   "id": "a3f6d746",
   "metadata": {},
   "outputs": [
    {
     "name": "stdout",
     "output_type": "stream",
     "text": [
      "[\"India's\", 'capital', 'is', '**New', 'Delhi**.', \"Here's\", 'some', 'information', 'about', 'it:', '*', '**History:**', 'New', 'Delhi', 'was', 'built', 'in', 'the', 'early', '20th', 'century', 'as', 'the', 'new', 'capital', 'of', 'British', 'India,', 'replacing', 'Calcutta.', 'It', 'was', 'officially', 'inaugurated', 'in', '1931.', '*', '**Location:**', \"It's\", 'located', 'in', 'northern', 'India,', 'on', 'the', 'banks', 'of', 'the', 'Yamuna', 'River.', '*', '**Governance:**', 'New', 'Delhi', 'is', 'a', '**Union', 'Territory**,', 'directly', 'governed', 'by', 'the', 'central', 'government', 'of', 'India.', '*', '**Population:**', \"It's\", 'one', 'of', 'the', 'most', 'populous', 'cities', 'in', 'the', 'world,', 'with', 'over', '30', 'million', 'people', 'living', 'in', 'the', 'National', 'Capital', 'Region.', '*', '**Culture', '&', 'Landmarks:**', 'New', 'Delhi', 'is', 'a', 'vibrant', 'blend', 'of', 'old', 'and', 'new,', 'with', 'historic', 'monuments', 'like', 'the', 'Red', 'Fort,', 'Jama', 'Masjid,', 'and', 'Qutub', 'Minar', 'alongside', 'modern', 'skyscrapers', 'and', 'bustling', 'markets.', '*', '**Politics', '&', 'Economy:**', 'As', 'the', 'capital,', 'New', 'Delhi', 'is', 'the', 'center', 'of', \"India's\", 'political', 'and', 'economic', 'life.', 'It', 'houses', 'the', 'Parliament,', 'the', 'Presidential', 'Palace,', 'and', 'many', 'government', 'offices.', \"It's\", 'also', 'a', 'major', 'commercial', 'hub', 'with', 'a', 'thriving', 'service', 'sector.', '**Interesting', 'facts:**', '*', 'New', 'Delhi', 'is', 'a', 'planned', 'city,', 'designed', 'by', 'British', 'architect', 'Sir', 'Edwin', 'Lutyens', 'and', 'Sir', 'Herbert', 'Baker.', '*', 'It', 'is', 'home', 'to', 'several', 'embassies', 'and', 'international', 'organizations,', 'including', 'the', 'United', 'Nations.', '*', 'The', 'city', 'is', 'renowned', 'for', 'its', 'diverse', 'cuisine,', 'ranging', 'from', 'traditional', 'Indian', 'dishes', 'to', 'international', 'fare.', 'Let', 'me', 'know', 'if', 'you', 'have', 'any', 'more', 'questions', 'about', 'New', 'Delhi!']\n"
     ]
    },
    {
     "data": {
      "text/plain": [
       "'Total token number in the generated answer 224'"
      ]
     },
     "execution_count": 19,
     "metadata": {},
     "output_type": "execute_result"
    }
   ],
   "source": [
    "app2.invoke(\"can you tell me about the india's capital?\")"
   ]
  },
  {
   "cell_type": "code",
   "execution_count": 20,
   "id": "5a785fa7",
   "metadata": {},
   "outputs": [
    {
     "name": "stdout",
     "output_type": "stream",
     "text": [
      "Node: My_LLM\n",
      "Let's talk about LangChain!\n",
      "\n",
      "**What is LangChain?**\n",
      "\n",
      "LangChain is an open-source framework designed to simplify the development of applications powered by large language models (LLMs). Think of it as a toolkit that helps you build powerful AI applications, going beyond just simple text generation.\n",
      "\n",
      "**Key Features and Benefits:**\n",
      "\n",
      "* **Modular Design:** LangChain is built with modular components, allowing you to easily combine and customize different parts to suit your needs.\n",
      "* **Chain Creation:** Its core strength lies in \"chains,\" which are sequences of LLMs and other components (like databases, APIs, etc.) that work together to accomplish complex tasks.\n",
      "* **Memory Management:** LangChain provides mechanisms for LLMs to remember past interactions within a conversation, enabling more natural and context-aware responses.\n",
      "* **Prompt Engineering:** It offers tools and techniques to craft effective prompts, guiding LLMs to generate the desired output.\n",
      "* **Data Integration:** LangChain seamlessly integrates with external data sources, allowing your applications to access and process real-world information.\n",
      "* **Agent Capabilities:** You can build AI agents using LangChain, which can autonomously interact with tools and environments, making decisions and taking actions.\n",
      "\n",
      "**Use Cases:**\n",
      "\n",
      "LangChain's versatility opens up a wide range of applications:\n",
      "\n",
      "* **Chatbots:** Create more sophisticated and conversational chatbots that can handle complex queries and provide personalized responses.\n",
      "* **Code Generation:** Assist developers by generating code snippets in different programming languages.\n",
      "* **Text Summarization and Analysis:**  Analyze large amounts of text, extract key insights, and generate concise summaries.\n",
      "* **Question Answering:** Build systems that can answer questions based on a given context or a knowledge base.\n",
      "* **Data Augmentation:** Generate synthetic data to enhance training datasets for machine learning models.\n",
      "\n",
      "**Getting Started:**\n",
      "\n",
      "LangChain is well-documented and has a friendly community. You can find comprehensive tutorials, examples, and resources on its official website: [https://python.langchain.com/](https://python.langchain.com/)\n",
      "\n",
      "\n",
      "Let me know if you have any more questions about LangChain or want to explore specific use cases in more detail.\n",
      "\n",
      "---\n",
      "[\"Let's\", 'talk', 'about', 'LangChain!', '**What', 'is', 'LangChain?**', 'LangChain', 'is', 'an', 'open-source', 'framework', 'designed', 'to', 'simplify', 'the', 'development', 'of', 'applications', 'powered', 'by', 'large', 'language', 'models', '(LLMs).', 'Think', 'of', 'it', 'as', 'a', 'toolkit', 'that', 'helps', 'you', 'build', 'powerful', 'AI', 'applications,', 'going', 'beyond', 'just', 'simple', 'text', 'generation.', '**Key', 'Features', 'and', 'Benefits:**', '*', '**Modular', 'Design:**', 'LangChain', 'is', 'built', 'with', 'modular', 'components,', 'allowing', 'you', 'to', 'easily', 'combine', 'and', 'customize', 'different', 'parts', 'to', 'suit', 'your', 'needs.', '*', '**Chain', 'Creation:**', 'Its', 'core', 'strength', 'lies', 'in', '\"chains,\"', 'which', 'are', 'sequences', 'of', 'LLMs', 'and', 'other', 'components', '(like', 'databases,', 'APIs,', 'etc.)', 'that', 'work', 'together', 'to', 'accomplish', 'complex', 'tasks.', '*', '**Memory', 'Management:**', 'LangChain', 'provides', 'mechanisms', 'for', 'LLMs', 'to', 'remember', 'past', 'interactions', 'within', 'a', 'conversation,', 'enabling', 'more', 'natural', 'and', 'context-aware', 'responses.', '*', '**Prompt', 'Engineering:**', 'It', 'offers', 'tools', 'and', 'techniques', 'to', 'craft', 'effective', 'prompts,', 'guiding', 'LLMs', 'to', 'generate', 'the', 'desired', 'output.', '*', '**Data', 'Integration:**', 'LangChain', 'seamlessly', 'integrates', 'with', 'external', 'data', 'sources,', 'allowing', 'your', 'applications', 'to', 'access', 'and', 'process', 'real-world', 'information.', '*', '**Agent', 'Capabilities:**', 'You', 'can', 'build', 'AI', 'agents', 'using', 'LangChain,', 'which', 'can', 'autonomously', 'interact', 'with', 'tools', 'and', 'environments,', 'making', 'decisions', 'and', 'taking', 'actions.', '**Use', 'Cases:**', \"LangChain's\", 'versatility', 'opens', 'up', 'a', 'wide', 'range', 'of', 'applications:', '*', '**Chatbots:**', 'Create', 'more', 'sophisticated', 'and', 'conversational', 'chatbots', 'that', 'can', 'handle', 'complex', 'queries', 'and', 'provide', 'personalized', 'responses.', '*', '**Code', 'Generation:**', 'Assist', 'developers', 'by', 'generating', 'code', 'snippets', 'in', 'different', 'programming', 'languages.', '*', '**Text', 'Summarization', 'and', 'Analysis:**', 'Analyze', 'large', 'amounts', 'of', 'text,', 'extract', 'key', 'insights,', 'and', 'generate', 'concise', 'summaries.', '*', '**Question', 'Answering:**', 'Build', 'systems', 'that', 'can', 'answer', 'questions', 'based', 'on', 'a', 'given', 'context', 'or', 'a', 'knowledge', 'base.', '*', '**Data', 'Augmentation:**', 'Generate', 'synthetic', 'data', 'to', 'enhance', 'training', 'datasets', 'for', 'machine', 'learning', 'models.', '**Getting', 'Started:**', 'LangChain', 'is', 'well-documented', 'and', 'has', 'a', 'friendly', 'community.', 'You', 'can', 'find', 'comprehensive', 'tutorials,', 'examples,', 'and', 'resources', 'on', 'its', 'official', 'website:', '[https://python.langchain.com/](https://python.langchain.com/)', 'Let', 'me', 'know', 'if', 'you', 'have', 'any', 'more', 'questions', 'about', 'LangChain', 'or', 'want', 'to', 'explore', 'specific', 'use', 'cases', 'in', 'more', 'detail.']\n",
      "Node: LLM_Output_Token_Counter\n",
      "Total token number in the generated answer 314\n",
      "---\n"
     ]
    }
   ],
   "source": [
    "for events in app2.stream(\"can you tell more about langgraph\"):\n",
    "    for key, val in events.items():\n",
    "        print(f\"Node: {key}\")\n",
    "        print(val)\n",
    "        print(\"---\")"
   ]
  },
  {
   "cell_type": "code",
   "execution_count": null,
   "id": "eb27aa01",
   "metadata": {},
   "outputs": [],
   "source": []
  }
 ],
 "metadata": {
  "kernelspec": {
   "display_name": "langgraph",
   "language": "python",
   "name": "python3"
  },
  "language_info": {
   "codemirror_mode": {
    "name": "ipython",
    "version": 3
   },
   "file_extension": ".py",
   "mimetype": "text/x-python",
   "name": "python",
   "nbconvert_exporter": "python",
   "pygments_lexer": "ipython3",
   "version": "3.12.0"
  }
 },
 "nbformat": 4,
 "nbformat_minor": 5
}
