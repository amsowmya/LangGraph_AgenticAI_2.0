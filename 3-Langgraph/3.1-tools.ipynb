{
 "cells": [
  {
   "cell_type": "code",
   "execution_count": 7,
   "id": "d070ae17",
   "metadata": {},
   "outputs": [],
   "source": [
    "from langchain_community.tools import WikipediaQueryRun\n",
    "from langchain_community.utilities import WikipediaAPIWrapper"
   ]
  },
  {
   "cell_type": "code",
   "execution_count": 8,
   "id": "ffd5d6ff",
   "metadata": {},
   "outputs": [],
   "source": [
    "api_wrapper = WikipediaAPIWrapper(top_k_results=2, doc_content_chars_max=500)\n",
    "\n",
    "wiki_tool = WikipediaQueryRun(api_wrapper=api_wrapper)"
   ]
  },
  {
   "cell_type": "code",
   "execution_count": 9,
   "id": "d9cdb932",
   "metadata": {},
   "outputs": [
    {
     "data": {
      "text/plain": [
       "'wikipedia'"
      ]
     },
     "execution_count": 9,
     "metadata": {},
     "output_type": "execute_result"
    }
   ],
   "source": [
    "wiki_tool.name"
   ]
  },
  {
   "cell_type": "code",
   "execution_count": 10,
   "id": "fea7a7a3",
   "metadata": {},
   "outputs": [
    {
     "data": {
      "text/plain": [
       "'A wrapper around Wikipedia. Useful for when you need to answer general questions about people, places, companies, facts, historical events, or other subjects. Input should be a search query.'"
      ]
     },
     "execution_count": 10,
     "metadata": {},
     "output_type": "execute_result"
    }
   ],
   "source": [
    "wiki_tool.description"
   ]
  },
  {
   "cell_type": "code",
   "execution_count": 11,
   "id": "c626f43f",
   "metadata": {},
   "outputs": [
    {
     "data": {
      "text/plain": [
       "{'query': {'description': 'query to look up on wikipedia',\n",
       "  'title': 'Query',\n",
       "  'type': 'string'}}"
      ]
     },
     "execution_count": 11,
     "metadata": {},
     "output_type": "execute_result"
    }
   ],
   "source": [
    "wiki_tool.args"
   ]
  },
  {
   "cell_type": "code",
   "execution_count": 13,
   "id": "fa9861bc",
   "metadata": {},
   "outputs": [
    {
     "data": {
      "text/plain": [
       "\"Page: Elon Musk\\nSummary: Elon Reeve Musk  ( EE-lon; born June 28, 1971) is a businessman. He is known for his leadership of Tesla, SpaceX, X (formerly Twitter), and the Department of Government Efficiency (DOGE). Musk has been considered the wealthiest person in the world since 2021; as of May 2025, Forbes estimates his net worth to be US$424.7 billion. \\nBorn to a wealthy family in Pretoria, South Africa, Musk emigrated in 1989 to Canada. He received bachelor's degrees from the University of Pen\""
      ]
     },
     "execution_count": 13,
     "metadata": {},
     "output_type": "execute_result"
    }
   ],
   "source": [
    "wiki_tool.run({\"query\": \"elon musk\"})"
   ]
  },
  {
   "cell_type": "code",
   "execution_count": 14,
   "metadata": {},
   "outputs": [],
   "source": [
    "from langchain_community.tools import YouTubeSearchTool"
   ]
  },
  {
   "cell_type": "code",
   "execution_count": 15,
   "metadata": {},
   "outputs": [],
   "source": [
    "tool = YouTubeSearchTool()"
   ]
  },
  {
   "cell_type": "code",
   "execution_count": 16,
   "id": "3a532b6b",
   "metadata": {},
   "outputs": [
    {
     "data": {
      "text/plain": [
       "'youtube_search'"
      ]
     },
     "execution_count": 16,
     "metadata": {},
     "output_type": "execute_result"
    }
   ],
   "source": [
    "tool.name"
   ]
  },
  {
   "cell_type": "code",
   "execution_count": 17,
   "id": "ea92d02d",
   "metadata": {},
   "outputs": [
    {
     "data": {
      "text/plain": [
       "'search for youtube videos associated with a person. the input to this tool should be a comma separated list, the first part contains a person name and the second a number that is the maximum number of video results to return aka num_results. the second part is optional'"
      ]
     },
     "execution_count": 17,
     "metadata": {},
     "output_type": "execute_result"
    }
   ],
   "source": [
    "tool.description"
   ]
  },
  {
   "cell_type": "code",
   "execution_count": 18,
   "id": "5d2aeec6",
   "metadata": {},
   "outputs": [
    {
     "data": {
      "text/plain": [
       "\"['https://www.youtube.com/watch?v=_kpxLkH5vY0&pp=ygUMc3Vubnkgc2F2aXRh', 'https://www.youtube.com/watch?v=SPNaP4ik9a4&pp=ygUMc3Vubnkgc2F2aXRh']\""
      ]
     },
     "execution_count": 18,
     "metadata": {},
     "output_type": "execute_result"
    }
   ],
   "source": [
    "tool.invoke(\"sunny savita\")"
   ]
  },
  {
   "cell_type": "code",
   "execution_count": 19,
   "id": "fca185a2",
   "metadata": {},
   "outputs": [],
   "source": [
    "from langchain_community.tools import TavilySearchResults"
   ]
  },
  {
   "cell_type": "code",
   "execution_count": 20,
   "id": "f1491679",
   "metadata": {},
   "outputs": [],
   "source": [
    "import os \n",
    "from dotenv import load_dotenv\n",
    "load_dotenv()\n",
    "\n",
    "tavily_api_key = os.getenv('TAVILY_API_KEY')\n",
    "\n",
    "tavily = TavilySearchResults(tavily_api_key=tavily_api_key)"
   ]
  },
  {
   "cell_type": "code",
   "execution_count": 21,
   "id": "66e5124d",
   "metadata": {},
   "outputs": [
    {
     "data": {
      "text/plain": [
       "[{'url': 'https://www.youtube.com/watch?v=gz8chxY7elU',\n",
       "  'content': \"At least 11 people were killed and 30 injured in a stampede outside the Chinnaswamy cricket stadium in Bengaluru. The incident happened during the Royal Challengers' victory celebrations after their first IPL triumph in 18 years. Did the state government underestimate the rush? Were crowd control measures not in place? Palki Sharma tells you.\\n\\n--- [...] soon the fan frenzy turned fatal. The exact details are not clear yet but reports say the rush led to a stampede. At least 11 people were killed, including children, and more than 30 were injured. Like I said, the exact sequence of events is unclear, but these pictures give you an idea. Uh you can see fans climbing up fences and trees. In some places, the police pushed back with force. We will show you the pictures, but as always, viewer discretion is advised. [Applause] [Music] [Applause] Such [...] the gates also. So stampede has taken place. Of course it should not have been happened. This this tragedy should not have been happened. We are with the sufferers victims. victims. And what about the event? The ceremony had already started inside the stadium. That's where news of the stampede came in. Karnataka's deputy chief minister says the event was cut short. It was wrapped up within 10 to 15 minutes. Initially, a bus parade had also been planned. That too was cancelled. But who takes\"},\n",
       " {'url': 'https://www.youtube.com/watch?v=M2JWZVPWGfY',\n",
       "  'content': 'As the champions parade through Bengaluru, the message is loud: India wins not just on the battlefield, but in the arena of sport — with pride, power, and passion. RCB’s victory is a reflection of India’s rise — strategic, smart, and unstoppable. And to the naysayers across the border: watch and weep — this is Indian cricket at its peak. Tune in LIVE for the grand celebration, the emotion, and the fire. This is not just a game. This is Indian domination. [...] History has been made. Bengaluru roars. And Virat Kohli leads from the front — not just with the bat, but as a symbol of Indian dominance. RCB has finally clinched the IPL 2025 Trophy, and the champions return to their fortress with unmatched glory. This isn’t just a victory — this is a statement. A decade of doubters silenced, a legacy sealed in fire and triumph. [...] From trolls to critics to Pakistan’s cricket propaganda — everything collapses in the face of this win. While Pakistan fails to qualify and sulks in excuses, India’s own Royal Challengers Bangalore have shown the world what real cricket supremacy looks like. No fixing. No fakery. Just raw Indian grit, brilliance, and boldness. Kohli, Dinesh Karthik, and the RCB squad have set the gold standard. While Pak celebrates memes, India celebrates trophies.'},\n",
       " {'url': 'https://en.wikipedia.org/wiki/Royal_Challengers_Bengaluru',\n",
       "  'content': \"In the IPL 2009, RCB won in both encounters against Knight Riders. During the second time they faced each other, Ross Taylor played a notable innings, scoring 81\\\\ runs off 33 balls, contributing significantly to RCB's victory by six wickets.[\\\\[149\\\\]]( [...] In the next match, RCB struck back as Virat Kohli made his 5th IPL century, scoring 100 runs in 58 balls only. Moeen Ali scored 66 runs in only 28 balls as RCB scored 213 runs. For KKR, Nitish Rana scored 85 off 46 and Andre Russell scored 65 off 25, taking the game down to the wire. However, RCB won the match by 10 runs, with Virat Kohli being Man of the Match.[\\\\[153\\\\]](\\n\\n### Rivalry with Chennai Super Kings [...] In the 2015 IPL edition, RCB and KKR took part in a match reduced due to rain. It was reduced to a 10-over match. RCB won the toss and elected to field. For KKR, Andre Russell was the top scorer as he scored 45 off just 17 balls. He took them to a score of 111/4 in just 10 overs. Mitchell Starc took one wicket for 15 runs in 2 overs. In reply, RCB were at 0–48 at 3.4 overs before Brad Hogg got Chris Gayle out. After that, RCB stuttered and started to collapse as they were reduced to 3–81 in 7.2\"},\n",
       " {'url': 'https://www.youtube.com/shorts/YWpKkW3kt5w',\n",
       "  'content': \"Royal Challengers Bangalore are the IPL 2025 Champions! 🔥 After years of waiting, RCB finally lifts the trophy in a historic final! Relive the unforgettable moments — from clutch performances to wild celebrations. 📌 In this video: Final match highlights Star performers Celebration scenes Reaction from fans What this win means for RCB 💬 Drop a ❤️ if you’re an RCB fan and comment your favorite moment from the final! 📌 Follow Us on Social Media for More Updates! 👉 Facebook: [...] Share\\n\\n \\n\\n Share \\n\\nImage 6\\n\\nImage 7\\n\\nComments\\n--------\\n\\nTop comments Newest first\\n\\nImage 8\\n\\nDescription\\n-----------\\n\\nRCB Wins IPL 2025! 🏆 | Historic Victory, Celebrations & Full Match Highlights\\n\\n16 Likes\\n\\n1,096 Views\\n\\nJun 3 2025 [...] ...more Show less \\n\\nImage 9\\n\\nImage 10: Go to video\\n\\nRCB Wins IPL 2025! 🏆 | Historic Victory, Celebrations & Full Match Highlights\\n==============================================================================\\n\\nImage 11: Go to channel\\n\\n@styx_sports\\n\\n Next video \\n\\nSearch\\n\\nInfo\\n\\nShopping\\n\\nTap to unmute\\n\\n2x\\n\\nImage 12\\n\\nIf playback doesn't begin shortly, try restarting your device.\\n\\nImage 13\\n\\n•\\n\\nYou're signed out\"},\n",
       " {'url': 'https://www.youtube.com/watch?v=kkQUiAOP63A&pp=0gcJCfwAo7VqN5tD',\n",
       "  'content': \"Witness Virat Kohli's emotional reaction, the electrifying atmosphere, and the unbelievable celebrations from RCB fans across the globe. From stunning sixes to game-changing wickets, this match had it all.\\n\\n✅ Full match highlights\\n✅ RCB lifting the IPL trophy for the first time\\n✅ Fans' crazy reactions\\n✅ Anushka Sharma's priceless reaction\\n\\nDon't miss out on this unforgettable cricket moment.\\n\\n#rcb #ipl2025 #viratkohli #ipl #ipl2025final [...] Welcome to the DNA India, your one-stop platform for all the fastest and most comprehensive English and Hindi news coverage and analysis. Follow us for latest updates on all big developments, explainers, analysis, interviews, ground reports and talk shows. We bring out the different angles to major national and international news stories grabbing headlines. [...] 16 comments\\n### Transcript:\"}]"
      ]
     },
     "execution_count": 21,
     "metadata": {},
     "output_type": "execute_result"
    }
   ],
   "source": [
    "tavily.invoke(\"what happened in RCB victory\")"
   ]
  },
  {
   "cell_type": "markdown",
   "id": "e0afe72b",
   "metadata": {},
   "source": [
    "## Custom tool"
   ]
  },
  {
   "cell_type": "code",
   "execution_count": 22,
   "id": "0396a27c",
   "metadata": {},
   "outputs": [],
   "source": [
    "def multiplication(a: int, b: int) -> int:\n",
    "    \"\"\"multiplication of two numbers\"\"\"\n",
    "    return a*b"
   ]
  },
  {
   "cell_type": "code",
   "execution_count": 23,
   "id": "2c8b0c20",
   "metadata": {},
   "outputs": [],
   "source": [
    "from langchain.agents import tool"
   ]
  },
  {
   "cell_type": "code",
   "execution_count": 24,
   "id": "451c5308",
   "metadata": {},
   "outputs": [],
   "source": [
    "@tool \n",
    "def multiplication(a: int, b: int) -> int:\n",
    "    \"\"\"multiplication of two numbers\"\"\"\n",
    "    return a*b"
   ]
  },
  {
   "cell_type": "code",
   "execution_count": 27,
   "id": "11887587",
   "metadata": {},
   "outputs": [
    {
     "data": {
      "text/plain": [
       "25"
      ]
     },
     "execution_count": 27,
     "metadata": {},
     "output_type": "execute_result"
    }
   ],
   "source": [
    "multiplication.invoke({\"a\":5, \"b\":5})"
   ]
  },
  {
   "cell_type": "code",
   "execution_count": 28,
   "id": "4297be8b",
   "metadata": {},
   "outputs": [
    {
     "data": {
      "text/plain": [
       "25"
      ]
     },
     "execution_count": 28,
     "metadata": {},
     "output_type": "execute_result"
    }
   ],
   "source": [
    "multiplication.run({\"a\":5, \"b\":5})"
   ]
  },
  {
   "cell_type": "code",
   "execution_count": 29,
   "id": "b80224ba",
   "metadata": {},
   "outputs": [
    {
     "data": {
      "text/plain": [
       "'multiplication'"
      ]
     },
     "execution_count": 29,
     "metadata": {},
     "output_type": "execute_result"
    }
   ],
   "source": [
    "multiplication.name"
   ]
  },
  {
   "cell_type": "code",
   "execution_count": 30,
   "id": "2be23a4a",
   "metadata": {},
   "outputs": [
    {
     "data": {
      "text/plain": [
       "'multiplication of two numbers'"
      ]
     },
     "execution_count": 30,
     "metadata": {},
     "output_type": "execute_result"
    }
   ],
   "source": [
    "multiplication.description"
   ]
  },
  {
   "cell_type": "code",
   "execution_count": 31,
   "id": "decd7a8d",
   "metadata": {},
   "outputs": [
    {
     "data": {
      "text/plain": [
       "{'a': {'title': 'A', 'type': 'integer'},\n",
       " 'b': {'title': 'B', 'type': 'integer'}}"
      ]
     },
     "execution_count": 31,
     "metadata": {},
     "output_type": "execute_result"
    }
   ],
   "source": [
    "multiplication.args"
   ]
  },
  {
   "cell_type": "code",
   "execution_count": 32,
   "id": "bd8a7159",
   "metadata": {},
   "outputs": [],
   "source": [
    "@tool\n",
    "def get_word_length(word: str) -> int:\n",
    "    \"\"\"Get the word length\"\"\"\n",
    "    return len(word)"
   ]
  },
  {
   "cell_type": "code",
   "execution_count": 33,
   "id": "c3700791",
   "metadata": {},
   "outputs": [
    {
     "data": {
      "text/plain": [
       "'get_word_length'"
      ]
     },
     "execution_count": 33,
     "metadata": {},
     "output_type": "execute_result"
    }
   ],
   "source": [
    "get_word_length.name"
   ]
  },
  {
   "cell_type": "code",
   "execution_count": 34,
   "id": "60e069c2",
   "metadata": {},
   "outputs": [
    {
     "data": {
      "text/plain": [
       "'Get the word length'"
      ]
     },
     "execution_count": 34,
     "metadata": {},
     "output_type": "execute_result"
    }
   ],
   "source": [
    "get_word_length.description"
   ]
  },
  {
   "cell_type": "code",
   "execution_count": 35,
   "id": "4d20ea43",
   "metadata": {},
   "outputs": [
    {
     "data": {
      "text/plain": [
       "{'word': {'title': 'Word', 'type': 'string'}}"
      ]
     },
     "execution_count": 35,
     "metadata": {},
     "output_type": "execute_result"
    }
   ],
   "source": [
    "get_word_length.args"
   ]
  },
  {
   "cell_type": "code",
   "execution_count": 36,
   "id": "7758215f",
   "metadata": {},
   "outputs": [
    {
     "name": "stderr",
     "output_type": "stream",
     "text": [
      "C:\\Users\\sowmy\\AppData\\Local\\Temp\\ipykernel_10288\\2913815158.py:1: LangChainDeprecationWarning: The method `BaseTool.__call__` was deprecated in langchain-core 0.1.47 and will be removed in 1.0. Use :meth:`~invoke` instead.\n",
      "  get_word_length(\"sowmya anekonda\")\n"
     ]
    },
    {
     "data": {
      "text/plain": [
       "15"
      ]
     },
     "execution_count": 36,
     "metadata": {},
     "output_type": "execute_result"
    }
   ],
   "source": [
    "get_word_length(\"sowmya anekonda\")"
   ]
  },
  {
   "cell_type": "code",
   "execution_count": 37,
   "id": "2e57047f",
   "metadata": {},
   "outputs": [
    {
     "data": {
      "text/plain": [
       "15"
      ]
     },
     "execution_count": 37,
     "metadata": {},
     "output_type": "execute_result"
    }
   ],
   "source": [
    "get_word_length.invoke(\"sowmya anekonda\")"
   ]
  },
  {
   "cell_type": "code",
   "execution_count": null,
   "id": "dc54faed",
   "metadata": {},
   "outputs": [],
   "source": []
  }
 ],
 "metadata": {
  "kernelspec": {
   "display_name": "langgraph",
   "language": "python",
   "name": "python3"
  },
  "language_info": {
   "codemirror_mode": {
    "name": "ipython",
    "version": 3
   },
   "file_extension": ".py",
   "mimetype": "text/x-python",
   "name": "python",
   "nbconvert_exporter": "python",
   "pygments_lexer": "ipython3",
   "version": "3.12.0"
  }
 },
 "nbformat": 4,
 "nbformat_minor": 5
}
