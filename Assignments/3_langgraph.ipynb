{
 "cells": [
  {
   "cell_type": "markdown",
   "id": "42905f9a",
   "metadata": {},
   "source": [
    "Assignment 4:\n",
    "\n",
    "1. You have to create one supervisor \n",
    "2. Router \n",
    "3.  3.1 llm call (llm node)\n",
    "    3.2 RAG (rag node)\n",
    "    3.3 web crawler (fetch the info in realtime from internet ) \n",
    "\n",
    "4. Created one more node for validation of generated output  -> Explore validation part \n",
    "5. If validation going to be faild in that again go to supervisor and then supervisor will again decide what needs to be call next\n",
    "6. Once the validation will pass then only generated the final output"
   ]
  },
  {
   "cell_type": "code",
   "execution_count": null,
   "id": "9f1df4f0",
   "metadata": {},
   "outputs": [],
   "source": []
  },
  {
   "cell_type": "code",
   "execution_count": null,
   "id": "165e0beb",
   "metadata": {},
   "outputs": [],
   "source": []
  },
  {
   "cell_type": "code",
   "execution_count": null,
   "id": "3261eb20",
   "metadata": {},
   "outputs": [],
   "source": []
  }
 ],
 "metadata": {
  "kernelspec": {
   "display_name": "langgraph",
   "language": "python",
   "name": "python3"
  },
  "language_info": {
   "name": "python",
   "version": "3.12.0"
  }
 },
 "nbformat": 4,
 "nbformat_minor": 5
}
