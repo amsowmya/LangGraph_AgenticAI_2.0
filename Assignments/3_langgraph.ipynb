{
 "cells": [
  {
   "cell_type": "markdown",
   "id": "42905f9a",
   "metadata": {},
   "source": [
    "Assignment 4:\n",
    "\n",
    "1. You have to create one supervisor \n",
    "2. Router \n",
    "3.  3.1 llm call (llm node)\n",
    "    3.2 RAG (rag node)\n",
    "    3.3 web crawler (fetch the info in realtime from internet ) \n",
    "\n",
    "4. Created one more node for validation of generated output  -> Explore validation part \n",
    "5. If validation going to be faild in that again go to supervisor and then supervisor will again decide what needs to be call next\n",
    "6. Once the validation will pass then only generated the final output"
   ]
  },
  {
   "cell_type": "code",
   "execution_count": 200,
   "id": "9f1df4f0",
   "metadata": {},
   "outputs": [
    {
     "data": {
      "text/plain": [
       "True"
      ]
     },
     "execution_count": 200,
     "metadata": {},
     "output_type": "execute_result"
    }
   ],
   "source": [
    "from langchain_groq.chat_models import ChatGroq\n",
    "from langchain_core.prompts import PromptTemplate\n",
    "from langchain.output_parsers import PydanticOutputParser\n",
    "from langchain_core.output_parsers import StrOutputParser\n",
    "from dotenv import load_dotenv\n",
    "import os\n",
    "\n",
    "from langgraph.graph import StateGraph, START, END\n",
    "from langgraph.prebuilt import ToolNode, tools_condition\n",
    "from langgraph.graph.message import MessagesState, add_messages\n",
    "from langchain_community.tools.tavily_search import TavilySearchResults\n",
    "from langchain_community.document_loaders import TextLoader, DirectoryLoader\n",
    "from langchain_text_splitters import RecursiveCharacterTextSplitter\n",
    "from langchain_community.vectorstores import Chroma\n",
    "from langchain_huggingface.embeddings import HuggingFaceEmbeddings\n",
    "from langchain_core.runnables import RunnablePassthrough\n",
    "\n",
    "from pydantic import BaseModel, Field\n",
    "\n",
    "load_dotenv()"
   ]
  },
  {
   "cell_type": "code",
   "execution_count": 201,
   "id": "a60c32b3",
   "metadata": {},
   "outputs": [],
   "source": [
    "groq_api_key = os.getenv('GROQ_API_KEY')"
   ]
  },
  {
   "cell_type": "code",
   "execution_count": 202,
   "id": "165e0beb",
   "metadata": {},
   "outputs": [
    {
     "data": {
      "text/plain": [
       "'Hello! 👋  How can I help you today?\\n'"
      ]
     },
     "execution_count": 202,
     "metadata": {},
     "output_type": "execute_result"
    }
   ],
   "source": [
    "model = ChatGroq(groq_api_key=groq_api_key, model=\"gemma2-9b-it\")\n",
    "\n",
    "model.invoke(\"hi\").content"
   ]
  },
  {
   "cell_type": "code",
   "execution_count": 203,
   "id": "f17bb823",
   "metadata": {},
   "outputs": [],
   "source": [
    "tavily_tool = TavilySearchResults()"
   ]
  },
  {
   "cell_type": "code",
   "execution_count": 204,
   "id": "5b927168",
   "metadata": {},
   "outputs": [],
   "source": [
    "loader = DirectoryLoader('../data', glob='./*.txt', loader_cls=TextLoader)\n",
    "docs = loader.load()"
   ]
  },
  {
   "cell_type": "code",
   "execution_count": 205,
   "id": "cd57aa42",
   "metadata": {},
   "outputs": [],
   "source": [
    "embeddings = HuggingFaceEmbeddings(model_name=\"all-MiniLM-L6-v2\")"
   ]
  },
  {
   "cell_type": "code",
   "execution_count": 206,
   "id": "809872e2",
   "metadata": {},
   "outputs": [],
   "source": [
    "splitter = RecursiveCharacterTextSplitter(chunk_size=500, chunk_overlap=50)\n",
    "documents = splitter.split_documents(docs)"
   ]
  },
  {
   "cell_type": "code",
   "execution_count": 207,
   "id": "1fafe707",
   "metadata": {},
   "outputs": [],
   "source": [
    "db = Chroma.from_documents(documents=documents, embedding=embeddings)"
   ]
  },
  {
   "cell_type": "code",
   "execution_count": 208,
   "id": "97da5d4a",
   "metadata": {},
   "outputs": [],
   "source": [
    "retriever = db.as_retriever()"
   ]
  },
  {
   "cell_type": "code",
   "execution_count": 209,
   "id": "f26d2286",
   "metadata": {},
   "outputs": [
    {
     "data": {
      "text/plain": [
       "[Document(metadata={'source': '..\\\\data\\\\usa.txt'}, page_content='U.S. GDP – Size, Composition, and Global Share'),\n",
       " Document(metadata={'source': '..\\\\data\\\\usa.txt'}, page_content='U.S. GDP – Size, Composition, and Global Share'),\n",
       " Document(metadata={'source': '..\\\\data\\\\usa.txt'}, page_content='U.S. GDP – Size, Composition, and Global Share'),\n",
       " Document(metadata={'source': '..\\\\data\\\\usa.txt'}, page_content='U.S. GDP – Size, Composition, and Global Share')]"
      ]
     },
     "execution_count": 209,
     "metadata": {},
     "output_type": "execute_result"
    }
   ],
   "source": [
    "retriever.invoke(\"gdp of usa?\")"
   ]
  },
  {
   "cell_type": "code",
   "execution_count": 210,
   "id": "08457d64",
   "metadata": {},
   "outputs": [],
   "source": [
    "class TopicSelector(BaseModel):\n",
    "    Topic: str = Field(description=\"Topic to be select 'LLM', 'RAG', 'Web'\")\n",
    "    Reason: str = Field(description=\"Reason to select the topic\")"
   ]
  },
  {
   "cell_type": "code",
   "execution_count": 211,
   "id": "3261eb20",
   "metadata": {},
   "outputs": [],
   "source": [
    "def supervisor(state: MessagesState):\n",
    "    print(\"--> Supervisor <--\")\n",
    "    question = state['messages'][0]\n",
    "    \n",
    "    template = \"\"\"You are an ai assistant tasked with identify the appropriate topic based on the given question {question} \\n{format_instructions}.\n",
    "    topics are : 'LLM', 'RAG', 'Web'\n",
    "    RAG: If the question is related to the USA \n",
    "    WEB: If the question is related to current situvation\n",
    "    LLM: If the question is related to general question\n",
    "    \"\"\"\n",
    "    parser = PydanticOutputParser(pydantic_object=TopicSelector)\n",
    "    \n",
    "    prompt = PromptTemplate(\n",
    "        template=template,\n",
    "        input_variables=['question'],\n",
    "        partial_variables={\"format_instructions\": parser.get_format_instructions()}\n",
    "    )\n",
    "    \n",
    "    chain = prompt | model | parser \n",
    "    \n",
    "    result = chain.invoke(question)\n",
    "    print(\"Result: \", result)\n",
    "    return {\"messages\": [result.Topic]}"
   ]
  },
  {
   "cell_type": "code",
   "execution_count": 212,
   "id": "d65bd5c6",
   "metadata": {},
   "outputs": [],
   "source": [
    "state = {\"messages\": [\"who is the present president in india?\"]}"
   ]
  },
  {
   "cell_type": "code",
   "execution_count": 213,
   "id": "8d6579f7",
   "metadata": {},
   "outputs": [
    {
     "name": "stdout",
     "output_type": "stream",
     "text": [
      "--> Supervisor <--\n",
      "Result:  Topic='LLM' Reason='The question asks for factual information about the current president of India, which can be answered using general knowledge.'\n"
     ]
    },
    {
     "data": {
      "text/plain": [
       "{'messages': ['LLM']}"
      ]
     },
     "execution_count": 213,
     "metadata": {},
     "output_type": "execute_result"
    }
   ],
   "source": [
    "supervisor(state)"
   ]
  },
  {
   "cell_type": "code",
   "execution_count": 214,
   "id": "e4a5bf31",
   "metadata": {},
   "outputs": [],
   "source": [
    "def router(state):\n",
    "    print(\"--> Router <--\")\n",
    "    last_message = state['messages'][-1].content\n",
    "    print(\"*********\")\n",
    "    print(last_message)\n",
    "    \n",
    "    if 'llm' in last_message.lower():\n",
    "        return \"LLM Call\"\n",
    "    elif 'rag' in last_message.lower():\n",
    "        return 'RAG Call'\n",
    "    elif 'web' in last_message.lower():\n",
    "        return 'Web Call'"
   ]
  },
  {
   "cell_type": "code",
   "execution_count": 215,
   "id": "d64415c6",
   "metadata": {},
   "outputs": [],
   "source": [
    "def llm_call(state):\n",
    "    print(\"--> LLM Call <--\")\n",
    "    question = state['messages'][0].content\n",
    "    \n",
    "    response = model.invoke(question)\n",
    "    print(\"******* \", response)\n",
    "    return {\"messages\": [response.content]}"
   ]
  },
  {
   "cell_type": "code",
   "execution_count": 216,
   "id": "675e5479",
   "metadata": {},
   "outputs": [],
   "source": [
    "def format_docs(docs):\n",
    "    return \"\\n\\n\".join(doc.page_content for doc in docs)"
   ]
  },
  {
   "cell_type": "code",
   "execution_count": 217,
   "id": "b6e5c74c",
   "metadata": {},
   "outputs": [],
   "source": [
    "def rag_call(state: MessagesState):\n",
    "    print(\"--> RAG Call <--\")\n",
    "    question = state['messages'][0].content\n",
    "    print(question)\n",
    "    \n",
    "    template = \"\"\"You are an ai assistant tasked with question-answering. Provide answer based on given context: {context}.\n",
    "    \n",
    "    Question: {question}\n",
    "    \"\"\"\n",
    "    \n",
    "    prompt = PromptTemplate(\n",
    "        template=template,\n",
    "        input_variables=['context', 'question']\n",
    "    )\n",
    "    \n",
    "    rag_chain = (\n",
    "        {\"context\": retriever | format_docs, \"question\": RunnablePassthrough()}\n",
    "        | prompt \n",
    "        | model \n",
    "        | StrOutputParser()\n",
    "    )\n",
    "    \n",
    "    response = rag_chain.invoke(question)\n",
    "    print(\"RESPONSE: \", response)\n",
    "    return {\"messages\": [response]}\n",
    "    "
   ]
  },
  {
   "cell_type": "code",
   "execution_count": 218,
   "id": "fe1e31ca",
   "metadata": {},
   "outputs": [],
   "source": [
    "state = {\"messages\": [\"gdp of usa?\"]}"
   ]
  },
  {
   "cell_type": "code",
   "execution_count": 219,
   "id": "d186e98e",
   "metadata": {},
   "outputs": [],
   "source": [
    "# rag_call(state)"
   ]
  },
  {
   "cell_type": "code",
   "execution_count": 220,
   "id": "7a0d30de",
   "metadata": {},
   "outputs": [],
   "source": [
    "def internet_crawller(state: MessagesState):\n",
    "    print(\"--> Web Call <--\")\n",
    "    question = state['messages'][0].content\n",
    "    print(question)\n",
    "    \n",
    "    results = tavily_tool.invoke(question)\n",
    "    \n",
    "    template = \"\"\"You are an ai assistant tasked with provide the consice answer based on the context {context}.\n",
    "    Answer only related to the question {question} with proper sentence\n",
    "    \"\"\"\n",
    "    \n",
    "    prompt = PromptTemplate(\n",
    "        template=template,\n",
    "        input_variables=['context', 'question']\n",
    "    )\n",
    "    \n",
    "    chain = (\n",
    "        {\"context\": RunnablePassthrough(), 'question': RunnablePassthrough()}\n",
    "        | prompt \n",
    "        | model \n",
    "        | StrOutputParser()\n",
    "    )\n",
    "    \n",
    "    response = chain.invoke({\"context\": results, \"question\": question})\n",
    "    \n",
    "    print(\"******* \", response)\n",
    "    \n",
    "    return {\"messages\": [response]}"
   ]
  },
  {
   "cell_type": "code",
   "execution_count": 221,
   "id": "99ef2cea",
   "metadata": {},
   "outputs": [],
   "source": [
    "state = {\"messages\": [\"current president in india?\"]}"
   ]
  },
  {
   "cell_type": "code",
   "execution_count": 222,
   "id": "66d82d9e",
   "metadata": {},
   "outputs": [],
   "source": [
    "# internet_crawller(state)"
   ]
  },
  {
   "cell_type": "code",
   "execution_count": 223,
   "id": "beb0ae2c",
   "metadata": {},
   "outputs": [],
   "source": [
    "class Grader(BaseModel):\n",
    "    binary_score: str = Field(description=\"Identify provided answer is relavent to the question with 'yes' or 'no'\")"
   ]
  },
  {
   "cell_type": "code",
   "execution_count": 224,
   "id": "c3d9b2a0",
   "metadata": {},
   "outputs": [],
   "source": [
    "def generator(state: MessagesState):\n",
    "    print(\"--> Generator <--\")\n",
    "    question = state['messages'][0]\n",
    "    last_message = state['messages'][-1]\n",
    "    \n",
    "    template = \"\"\"You are an ai assistant tasked with identify given answer is relavent to the question or not. \n",
    "    Question: {question}\n",
    "    Answer: {answer}\n",
    "    \n",
    "    Provide answer with 'yes' or 'no'. \\n{format_instruction}\n",
    "    \"\"\"\n",
    "    \n",
    "    parser = PydanticOutputParser(pydantic_object=Grader)\n",
    "    \n",
    "    prompt = PromptTemplate(\n",
    "        template=template,\n",
    "        input_variables=['question', 'answer'],\n",
    "        partial_variables={\"format_instruction\": parser.get_format_instructions()}\n",
    "    )\n",
    "    \n",
    "    grader_chain = (\n",
    "        {\"question\": RunnablePassthrough(), \"answer\": RunnablePassthrough()}\n",
    "        | prompt \n",
    "        | model \n",
    "        | parser\n",
    "    )\n",
    "    \n",
    "    response = grader_chain.invoke({\"question\": question, \"answer\": last_message})\n",
    "    print(response.binary_score)\n",
    "    \n",
    "    return {\"messages\": [response.binary_score]}"
   ]
  },
  {
   "cell_type": "code",
   "execution_count": 225,
   "id": "147bc941",
   "metadata": {},
   "outputs": [],
   "source": [
    "state = {\"messages\": [\"who is the current president of inida\", \"droupadi murmu is the current president\"]}"
   ]
  },
  {
   "cell_type": "code",
   "execution_count": 226,
   "id": "7897d5fb",
   "metadata": {},
   "outputs": [],
   "source": [
    "# generator(state)"
   ]
  },
  {
   "cell_type": "code",
   "execution_count": 227,
   "id": "5ebe4e8f",
   "metadata": {},
   "outputs": [],
   "source": [
    "def grader_rounter(state):\n",
    "    print(\"--> Grader Router <--\")\n",
    "    last_message = state['messages'][-1].content\n",
    "    \n",
    "    print(last_message)\n",
    "    \n",
    "    if 'yes' in last_message:\n",
    "        return \"Answer related\" \n",
    "    elif 'no' in last_message:\n",
    "        return \"Answer not related\""
   ]
  },
  {
   "cell_type": "code",
   "execution_count": 228,
   "id": "4417661b",
   "metadata": {},
   "outputs": [],
   "source": [
    "workflow = StateGraph(MessagesState)\n",
    "\n",
    "workflow.add_node(\"Supervisor\", supervisor)\n",
    "workflow.add_node(\"LLM\", llm_call)\n",
    "workflow.add_node(\"RAG\", rag_call)\n",
    "workflow.add_node(\"Web\", internet_crawller)\n",
    "workflow.add_node(\"Generator\", generator)\n",
    "\n",
    "workflow.add_conditional_edges(\n",
    "    \"Supervisor\",\n",
    "    router,\n",
    "    {\n",
    "        \"LLM Call\": \"LLM\",\n",
    "        \"RAG Call\": \"RAG\",\n",
    "        \"Web Call\": \"Web\"\n",
    "    }\n",
    ")\n",
    "\n",
    "workflow.add_edge(START, \"Supervisor\")\n",
    "workflow.add_edge(\"LLM\", \"Generator\")\n",
    "workflow.add_edge(\"RAG\", \"Generator\")\n",
    "workflow.add_edge(\"Web\", \"Generator\")\n",
    "\n",
    "workflow.add_conditional_edges(\n",
    "    \"Generator\",\n",
    "    grader_rounter,\n",
    "    {\n",
    "        \"Answer related\": END,\n",
    "        \"Answer not related\": \"Supervisor\"\n",
    "    }\n",
    ")\n",
    "\n",
    "app = workflow.compile()"
   ]
  },
  {
   "cell_type": "code",
   "execution_count": 229,
   "id": "d1ef5da8",
   "metadata": {},
   "outputs": [
    {
     "data": {
      "image/png": "[encoded data removed]",
      "text/plain": [
       "<IPython.core.display.Image object>"
      ]
     },
     "metadata": {},
     "output_type": "display_data"
    }
   ],
   "source": [
    "from IPython.display import display,  Image\n",
    "display(Image(app.get_graph().draw_mermaid_png()))"
   ]
  },
  {
   "cell_type": "code",
   "execution_count": 230,
   "id": "71c7dd3f",
   "metadata": {},
   "outputs": [
    {
     "name": "stdout",
     "output_type": "stream",
     "text": [
      "--> Supervisor <--\n",
      "Result:  Topic='RAG' Reason='The question is about the current president of the USA, which is a fact-based query related to a specific entity (USA).'\n",
      "--> Router <--\n",
      "*********\n",
      "RAG\n",
      "--> RAG Call <--\n",
      "Current president of usa?\n",
      "RESPONSE:  The provided text focuses on economic challenges facing the U.S. and doesn't mention the current president. \n",
      "\n",
      "To answer your question: The current President of the USA is **Joe Biden**. \n",
      "\n",
      "\n",
      "--> Generator <--\n",
      "yes\n",
      "--> Grader Router <--\n",
      "yes\n"
     ]
    },
    {
     "data": {
      "text/plain": [
       "{'messages': [HumanMessage(content='Current president of usa?', additional_kwargs={}, response_metadata={}, id='fd45bb6f-1396-4688-867d-4b1b16a48c6c'),\n",
       "  HumanMessage(content='RAG', additional_kwargs={}, response_metadata={}, id='e1f78e8b-7fa5-4bf7-a756-d2fb442f2af7'),\n",
       "  HumanMessage(content=\"The provided text focuses on economic challenges facing the U.S. and doesn't mention the current president. \\n\\nTo answer your question: The current President of the USA is **Joe Biden**. \\n\\n\", additional_kwargs={}, response_metadata={}, id='76d4f26e-3232-4dd3-bd47-3f043c22c2b2'),\n",
       "  HumanMessage(content='yes', additional_kwargs={}, response_metadata={}, id='0507f4a3-8e5f-4274-9e55-5ff24f06594e')]}"
      ]
     },
     "execution_count": 230,
     "metadata": {},
     "output_type": "execute_result"
    }
   ],
   "source": [
    "app.invoke({\"messages\": [\"Current president of usa?\"]})"
   ]
  },
  {
   "cell_type": "code",
   "execution_count": 231,
   "id": "422f66ce",
   "metadata": {},
   "outputs": [
    {
     "name": "stdout",
     "output_type": "stream",
     "text": [
      "--> Supervisor <--\n",
      "Result:  Topic='RAG' Reason='The question is about the current president of the USA, which is related to factual information about the USA.'\n",
      "--> Router <--\n",
      "*********\n",
      "RAG\n",
      "___________\n",
      "Node: Supervisor\n",
      "{'messages': ['RAG']}\n",
      "___________\n",
      "--> RAG Call <--\n",
      "Current president of usa?\n",
      "RESPONSE:  The provided text focuses on economic challenges and opportunities for the United States. It doesn't mention the current president.  \n",
      "\n",
      "To find out the current president of the USA, you can easily search online. \n",
      "\n",
      "\n",
      "___________\n",
      "Node: RAG\n",
      "{'messages': [\"The provided text focuses on economic challenges and opportunities for the United States. It doesn't mention the current president.  \\n\\nTo find out the current president of the USA, you can easily search online. \\n\\n\"]}\n",
      "___________\n",
      "--> Generator <--\n",
      "no\n",
      "--> Grader Router <--\n",
      "no\n",
      "___________\n",
      "Node: Generator\n",
      "{'messages': ['no']}\n",
      "___________\n",
      "--> Supervisor <--\n",
      "Result:  Topic='RAG' Reason='The question asks about the current president of the USA, which is a fact related to a specific country.'\n",
      "--> Router <--\n",
      "*********\n",
      "RAG\n",
      "___________\n",
      "Node: Supervisor\n",
      "{'messages': ['RAG']}\n",
      "___________\n",
      "--> RAG Call <--\n",
      "Current president of usa?\n",
      "RESPONSE:  This document does not contain the answer to who the current president of the USA is.  \n",
      "\n",
      "\n",
      "___________\n",
      "Node: RAG\n",
      "{'messages': ['This document does not contain the answer to who the current president of the USA is.  \\n\\n']}\n",
      "___________\n",
      "--> Generator <--\n",
      "no\n",
      "--> Grader Router <--\n",
      "no\n",
      "___________\n",
      "Node: Generator\n",
      "{'messages': ['no']}\n",
      "___________\n",
      "--> Supervisor <--\n",
      "Result:  Topic='RAG' Reason='The question asks about the current president of the USA, which is a fact-based question related to a specific entity (the USA).'\n",
      "--> Router <--\n",
      "*********\n",
      "RAG\n",
      "___________\n",
      "Node: Supervisor\n",
      "{'messages': ['RAG']}\n",
      "___________\n",
      "--> RAG Call <--\n",
      "Current president of usa?\n",
      "RESPONSE:  This document does not contain the answer to who the current president of the USA is.  It focuses on economic challenges and opportunities for the United States. \n",
      "\n",
      "\n",
      "\n",
      "\n",
      "___________\n",
      "Node: RAG\n",
      "{'messages': ['This document does not contain the answer to who the current president of the USA is.  It focuses on economic challenges and opportunities for the United States. \\n\\n\\n\\n']}\n",
      "___________\n",
      "--> Generator <--\n",
      "no\n",
      "--> Grader Router <--\n",
      "no\n",
      "___________\n",
      "Node: Generator\n",
      "{'messages': ['no']}\n",
      "___________\n",
      "--> Supervisor <--\n",
      "Result:  Topic='RAG' Reason='The question is about the current president of the USA, which is a factual query related to a specific country.'\n",
      "--> Router <--\n",
      "*********\n",
      "RAG\n",
      "___________\n",
      "Node: Supervisor\n",
      "{'messages': ['RAG']}\n",
      "___________\n",
      "--> RAG Call <--\n",
      "Current president of usa?\n",
      "RESPONSE:  The provided text focuses on economic leadership and doesn't mention the current president of the USA. \n",
      "\n",
      "\n",
      "To find the current president, you can search online or consult a reliable news source. \n",
      "\n",
      "\n",
      "___________\n",
      "Node: RAG\n",
      "{'messages': [\"The provided text focuses on economic leadership and doesn't mention the current president of the USA. \\n\\n\\nTo find the current president, you can search online or consult a reliable news source. \\n\\n\"]}\n",
      "___________\n",
      "--> Generator <--\n",
      "no\n",
      "--> Grader Router <--\n",
      "no\n",
      "___________\n",
      "Node: Generator\n",
      "{'messages': ['no']}\n",
      "___________\n",
      "--> Supervisor <--\n",
      "Result:  Topic='RAG' Reason='The question asks about the current president of the USA, which is a fact-based question related to a specific entity (the USA).'\n",
      "--> Router <--\n",
      "*********\n",
      "RAG\n",
      "___________\n",
      "Node: Supervisor\n",
      "{'messages': ['RAG']}\n",
      "___________\n",
      "--> RAG Call <--\n",
      "Current president of usa?\n",
      "RESPONSE:  This document does not contain the answer to who the current president of the USA is.  \n",
      "\n",
      "\n",
      "___________\n",
      "Node: RAG\n",
      "{'messages': ['This document does not contain the answer to who the current president of the USA is.  \\n\\n']}\n",
      "___________\n",
      "--> Generator <--\n",
      "no\n",
      "--> Grader Router <--\n",
      "no\n",
      "___________\n",
      "Node: Generator\n",
      "{'messages': ['no']}\n",
      "___________\n",
      "--> Supervisor <--\n",
      "Result:  Topic='RAG' Reason='The question asks for information about the current president of the USA, which is a fact-based query related to a specific entity (the USA).'\n",
      "--> Router <--\n",
      "*********\n",
      "RAG\n",
      "___________\n",
      "Node: Supervisor\n",
      "{'messages': ['RAG']}\n",
      "___________\n",
      "--> RAG Call <--\n",
      "Current president of usa?\n",
      "RESPONSE:  The provided text does not mention the current president of the USA.  \n",
      "\n",
      "\n",
      "___________\n",
      "Node: RAG\n",
      "{'messages': ['The provided text does not mention the current president of the USA.  \\n\\n']}\n",
      "___________\n",
      "--> Generator <--\n",
      "no\n",
      "--> Grader Router <--\n",
      "no\n",
      "___________\n",
      "Node: Generator\n",
      "{'messages': ['no']}\n",
      "___________\n",
      "--> Supervisor <--\n",
      "Result:  Topic='RAG' Reason='The question is about the current president of the USA, which is a fact-based query related to a specific entity (the USA).'\n",
      "--> Router <--\n",
      "*********\n",
      "RAG\n",
      "___________\n",
      "Node: Supervisor\n",
      "{'messages': ['RAG']}\n",
      "___________\n",
      "--> RAG Call <--\n",
      "Current president of usa?\n",
      "RESPONSE:  The provided text focuses on economic leadership and does not mention the current president of the USA.  \n",
      "\n",
      "\n",
      "___________\n",
      "Node: RAG\n",
      "{'messages': ['The provided text focuses on economic leadership and does not mention the current president of the USA.  \\n\\n']}\n",
      "___________\n",
      "--> Generator <--\n",
      "no\n",
      "--> Grader Router <--\n",
      "no\n",
      "___________\n",
      "Node: Generator\n",
      "{'messages': ['no']}\n",
      "___________\n",
      "--> Supervisor <--\n",
      "Result:  Topic='RAG' Reason='The question is about the current president of the USA, which is a fact-based query related to a specific entity (USA).'\n",
      "--> Router <--\n",
      "*********\n",
      "RAG\n",
      "___________\n",
      "Node: Supervisor\n",
      "{'messages': ['RAG']}\n",
      "___________\n",
      "--> RAG Call <--\n",
      "Current president of usa?\n",
      "RESPONSE:  The text provided does not contain the answer to who the current president of the USA is.  \n",
      "\n",
      "\n",
      "___________\n",
      "Node: RAG\n",
      "{'messages': ['The text provided does not contain the answer to who the current president of the USA is.  \\n\\n']}\n",
      "___________\n",
      "--> Generator <--\n",
      "no\n",
      "--> Grader Router <--\n",
      "no\n",
      "___________\n",
      "Node: Generator\n",
      "{'messages': ['no']}\n",
      "___________\n",
      "--> Supervisor <--\n",
      "Result:  Topic='RAG' Reason='The question asks about the current president of the USA, which is a fact-based query related to a specific country.'\n",
      "--> Router <--\n",
      "*********\n",
      "RAG\n",
      "___________\n",
      "Node: Supervisor\n",
      "{'messages': ['RAG']}\n",
      "___________\n"
     ]
    },
    {
     "ename": "GraphRecursionError",
     "evalue": "Recursion limit of 25 reached without hitting a stop condition. You can increase the limit by setting the `recursion_limit` config key.\nFor troubleshooting, visit: https://python.langchain.com/docs/troubleshooting/errors/GRAPH_RECURSION_LIMIT",
     "output_type": "error",
     "traceback": [
      "\u001b[31m---------------------------------------------------------------------------\u001b[39m",
      "\u001b[31mGraphRecursionError\u001b[39m                       Traceback (most recent call last)",
      "\u001b[36mCell\u001b[39m\u001b[36m \u001b[39m\u001b[32mIn[231]\u001b[39m\u001b[32m, line 1\u001b[39m\n\u001b[32m----> \u001b[39m\u001b[32m1\u001b[39m \u001b[38;5;28;43;01mfor\u001b[39;49;00m\u001b[43m \u001b[49m\u001b[43mevents\u001b[49m\u001b[43m \u001b[49m\u001b[38;5;129;43;01min\u001b[39;49;00m\u001b[43m \u001b[49m\u001b[43mapp\u001b[49m\u001b[43m.\u001b[49m\u001b[43mstream\u001b[49m\u001b[43m(\u001b[49m\u001b[43m{\u001b[49m\u001b[33;43m\"\u001b[39;49m\u001b[33;43mmessages\u001b[39;49m\u001b[33;43m\"\u001b[39;49m\u001b[43m:\u001b[49m\u001b[43m \u001b[49m\u001b[43m[\u001b[49m\u001b[33;43m\"\u001b[39;49m\u001b[33;43mCurrent president of usa?\u001b[39;49m\u001b[33;43m\"\u001b[39;49m\u001b[43m]\u001b[49m\u001b[43m}\u001b[49m\u001b[43m)\u001b[49m\u001b[43m:\u001b[49m\n\u001b[32m      2\u001b[39m \u001b[43m    \u001b[49m\u001b[38;5;28;43;01mfor\u001b[39;49;00m\u001b[43m \u001b[49m\u001b[43mkey\u001b[49m\u001b[43m,\u001b[49m\u001b[43m \u001b[49m\u001b[43mval\u001b[49m\u001b[43m \u001b[49m\u001b[38;5;129;43;01min\u001b[39;49;00m\u001b[43m \u001b[49m\u001b[43mevents\u001b[49m\u001b[43m.\u001b[49m\u001b[43mitems\u001b[49m\u001b[43m(\u001b[49m\u001b[43m)\u001b[49m\u001b[43m:\u001b[49m\n\u001b[32m      3\u001b[39m \u001b[43m        \u001b[49m\u001b[38;5;28;43mprint\u001b[39;49m\u001b[43m(\u001b[49m\u001b[33;43m\"\u001b[39;49m\u001b[33;43m___________\u001b[39;49m\u001b[33;43m\"\u001b[39;49m\u001b[43m)\u001b[49m\n",
      "\u001b[36mFile \u001b[39m\u001b[32mc:\\Users\\sowmy\\anaconda3\\envs\\langgraph\\Lib\\site-packages\\langgraph\\pregel\\__init__.py:2013\u001b[39m, in \u001b[36mPregel.stream\u001b[39m\u001b[34m(self, input, config, stream_mode, output_keys, interrupt_before, interrupt_after, debug, subgraphs)\u001b[39m\n\u001b[32m   2004\u001b[39m \u001b[38;5;28;01mif\u001b[39;00m loop.status == \u001b[33m\"\u001b[39m\u001b[33mout_of_steps\u001b[39m\u001b[33m\"\u001b[39m:\n\u001b[32m   2005\u001b[39m     msg = create_error_message(\n\u001b[32m   2006\u001b[39m         message=(\n\u001b[32m   2007\u001b[39m             \u001b[33mf\u001b[39m\u001b[33m\"\u001b[39m\u001b[33mRecursion limit of \u001b[39m\u001b[38;5;132;01m{\u001b[39;00mconfig[\u001b[33m'\u001b[39m\u001b[33mrecursion_limit\u001b[39m\u001b[33m'\u001b[39m]\u001b[38;5;132;01m}\u001b[39;00m\u001b[33m reached \u001b[39m\u001b[33m\"\u001b[39m\n\u001b[32m   (...)\u001b[39m\u001b[32m   2011\u001b[39m         error_code=ErrorCode.GRAPH_RECURSION_LIMIT,\n\u001b[32m   2012\u001b[39m     )\n\u001b[32m-> \u001b[39m\u001b[32m2013\u001b[39m     \u001b[38;5;28;01mraise\u001b[39;00m GraphRecursionError(msg)\n\u001b[32m   2014\u001b[39m \u001b[38;5;66;03m# set final channel values as run output\u001b[39;00m\n\u001b[32m   2015\u001b[39m run_manager.on_chain_end(loop.output)\n",
      "\u001b[31mGraphRecursionError\u001b[39m: Recursion limit of 25 reached without hitting a stop condition. You can increase the limit by setting the `recursion_limit` config key.\nFor troubleshooting, visit: https://python.langchain.com/docs/troubleshooting/errors/GRAPH_RECURSION_LIMIT"
     ]
    }
   ],
   "source": [
    "for events in app.stream({\"messages\": [\"Current president of usa?\"]}):\n",
    "    for key, val in events.items():\n",
    "        print(\"___________\")\n",
    "        print(f\"Node: {key}\")\n",
    "        print(val)\n",
    "        print(\"___________\")"
   ]
  },
  {
   "cell_type": "code",
   "execution_count": null,
   "id": "b83a106e",
   "metadata": {},
   "outputs": [],
   "source": []
  }
 ],
 "metadata": {
  "kernelspec": {
   "display_name": "langgraph",
   "language": "python",
   "name": "python3"
  },
  "language_info": {
   "codemirror_mode": {
    "name": "ipython",
    "version": 3
   },
   "file_extension": ".py",
   "mimetype": "text/x-python",
   "name": "python",
   "nbconvert_exporter": "python",
   "pygments_lexer": "ipython3",
   "version": "3.12.0"
  }
 },
 "nbformat": 4,
 "nbformat_minor": 5
}
