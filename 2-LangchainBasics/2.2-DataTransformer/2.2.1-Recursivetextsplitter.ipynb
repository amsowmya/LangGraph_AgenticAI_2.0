{
 "cells": [
  {
   "cell_type": "code",
   "execution_count": 1,
   "id": "fe0fec20",
   "metadata": {},
   "outputs": [],
   "source": [
    "from langchain_community.document_loaders import PyPDFLoader\n",
    "from langchain_text_splitters import RecursiveCharacterTextSplitter"
   ]
  },
  {
   "cell_type": "code",
   "execution_count": 2,
   "id": "a08c2ef3",
   "metadata": {},
   "outputs": [],
   "source": [
    "file_path = r\"E:\\2025\\Generative_AI\\Course\\agentic-ai-2.0\\data\\syllabus.pdf\"\n",
    "docs = PyPDFLoader(file_path).load()"
   ]
  },
  {
   "cell_type": "code",
   "execution_count": 3,
   "id": "d4fb51d7",
   "metadata": {},
   "outputs": [
    {
     "data": {
      "text/plain": [
       "34"
      ]
     },
     "execution_count": 3,
     "metadata": {},
     "output_type": "execute_result"
    }
   ],
   "source": [
    "len(docs)"
   ]
  },
  {
   "cell_type": "code",
   "execution_count": 6,
   "id": "7f9446a8",
   "metadata": {},
   "outputs": [],
   "source": [
    "text_splitter = RecursiveCharacterTextSplitter(chunk_size=500, chunk_overlap=50)\n",
    "documents = text_splitter.split_documents(docs)"
   ]
  },
  {
   "cell_type": "code",
   "execution_count": 7,
   "id": "1c321db9",
   "metadata": {},
   "outputs": [
    {
     "data": {
      "text/plain": [
       "81"
      ]
     },
     "execution_count": 7,
     "metadata": {},
     "output_type": "execute_result"
    }
   ],
   "source": [
    "len(documents)"
   ]
  },
  {
   "cell_type": "code",
   "execution_count": 8,
   "id": "4609bf6e",
   "metadata": {},
   "outputs": [
    {
     "data": {
      "text/plain": [
       "Document(metadata={'producer': 'Canva', 'creator': 'Canva', 'creationdate': '2025-01-30T20:27:03+00:00', 'title': 'Ultimate Data Science & GenAI Bootcamp', 'moddate': '2025-01-30T20:26:59+00:00', 'keywords': 'DAGdmhcqnYw,BAEmsmap8Lg,0', 'author': 'monal singh', 'containsaigeneratedcontent': 'Yes', 'source': 'E:\\\\2025\\\\Generative_AI\\\\Course\\\\agentic-ai-2.0\\\\data\\\\syllabus.pdf', 'total_pages': 34, 'page': 0, 'page_label': '1'}, page_content='MACHINE\\nLEARNING\\nDEEP\\nLEARNING\\nPYTHON +\\nSTATS\\nCOMPUTER VISIONNATURAL LANGUAGE PROCESSING\\nGENERATIVE AI\\nRETRIEVAL AUGUMENT GENERATION\\nVECTOR DB')"
      ]
     },
     "execution_count": 8,
     "metadata": {},
     "output_type": "execute_result"
    }
   ],
   "source": [
    "documents[0]"
   ]
  },
  {
   "cell_type": "markdown",
   "id": "8a7d580e",
   "metadata": {},
   "source": [
    "### Using textloader"
   ]
  },
  {
   "cell_type": "code",
   "execution_count": 9,
   "id": "bd0fce13",
   "metadata": {},
   "outputs": [],
   "source": [
    "from langchain_community.document_loaders import TextLoader\n",
    "\n",
    "file_path = r\"E:\\2025\\Generative_AI\\Course\\agentic-ai-2.0\\data\\speech.txt\"\n",
    "docs = TextLoader(file_path).load()"
   ]
  },
  {
   "cell_type": "code",
   "execution_count": 10,
   "id": "12684816",
   "metadata": {},
   "outputs": [
    {
     "data": {
      "text/plain": [
       "1"
      ]
     },
     "execution_count": 10,
     "metadata": {},
     "output_type": "execute_result"
    }
   ],
   "source": [
    "len(docs)"
   ]
  },
  {
   "cell_type": "code",
   "execution_count": 11,
   "id": "ab2ae7ca",
   "metadata": {},
   "outputs": [],
   "source": [
    "text_splitter = RecursiveCharacterTextSplitter(chunk_size=100, chunk_overlap=10)\n",
    "documents = text_splitter.split_documents(docs)"
   ]
  },
  {
   "cell_type": "code",
   "execution_count": 12,
   "id": "3fe73b69",
   "metadata": {},
   "outputs": [
    {
     "data": {
      "text/plain": [
       "42"
      ]
     },
     "execution_count": 12,
     "metadata": {},
     "output_type": "execute_result"
    }
   ],
   "source": [
    "len(documents)"
   ]
  },
  {
   "cell_type": "code",
   "execution_count": 13,
   "id": "f6cbfeb0",
   "metadata": {},
   "outputs": [
    {
     "data": {
      "text/plain": [
       "Document(metadata={'source': 'E:\\\\2025\\\\Generative_AI\\\\Course\\\\agentic-ai-2.0\\\\data\\\\speech.txt'}, page_content='The world must be made safe for democracy. Its peace must be planted upon the tested foundations of')"
      ]
     },
     "execution_count": 13,
     "metadata": {},
     "output_type": "execute_result"
    }
   ],
   "source": [
    "documents[0]"
   ]
  },
  {
   "cell_type": "markdown",
   "id": "ab056613",
   "metadata": {},
   "source": [
    "#### Character Text Splitter\n",
    "\n",
    "- This is the simplest method. This splits based on a given character sequence, which defaults to \"\\n\\n\". "
   ]
  },
  {
   "cell_type": "code",
   "execution_count": 15,
   "id": "b902c65c",
   "metadata": {},
   "outputs": [],
   "source": [
    "from langchain_community.document_loaders import TextLoader\n",
    "\n",
    "file_path = r\"E:\\2025\\Generative_AI\\Course\\agentic-ai-2.0\\data\\speech.txt\"\n",
    "docs = TextLoader(file_path).load()"
   ]
  },
  {
   "cell_type": "code",
   "execution_count": 16,
   "id": "06b4d3a9",
   "metadata": {},
   "outputs": [
    {
     "name": "stderr",
     "output_type": "stream",
     "text": [
      "Created a chunk of size 470, which is longer than the specified 100\n",
      "Created a chunk of size 347, which is longer than the specified 100\n",
      "Created a chunk of size 668, which is longer than the specified 100\n",
      "Created a chunk of size 982, which is longer than the specified 100\n",
      "Created a chunk of size 789, which is longer than the specified 100\n"
     ]
    }
   ],
   "source": [
    "from langchain_text_splitters import CharacterTextSplitter \n",
    "\n",
    "text_splitter = CharacterTextSplitter(separator=\"\\n\", chunk_size=100, chunk_overlap=10)\n",
    "documents = text_splitter.split_documents(docs)"
   ]
  },
  {
   "cell_type": "code",
   "execution_count": 17,
   "id": "a080cdfc",
   "metadata": {},
   "outputs": [
    {
     "data": {
      "text/plain": [
       "7"
      ]
     },
     "execution_count": 17,
     "metadata": {},
     "output_type": "execute_result"
    }
   ],
   "source": [
    "len(documents)"
   ]
  },
  {
   "cell_type": "code",
   "execution_count": 18,
   "id": "d676ae23",
   "metadata": {},
   "outputs": [
    {
     "data": {
      "text/plain": [
       "'The world must be made safe for democracy. Its peace must be planted upon the tested foundations of political liberty. We have no selfish ends to serve. We desire no conquest, no dominion. We seek no indemnities for ourselves, no material compensation for the sacrifices we shall freely make. We are but one of the champions of the rights of mankind. We shall be satisfied when those rights have been made as secure as the faith and the freedom of nations can make them.'"
      ]
     },
     "execution_count": 18,
     "metadata": {},
     "output_type": "execute_result"
    }
   ],
   "source": [
    "documents[0].page_content"
   ]
  },
  {
   "cell_type": "markdown",
   "id": "4c5610dd",
   "metadata": {},
   "source": [
    "### HTML Text Splitter\n",
    "\n",
    "-  It is a \"structure-aware\" chunker"
   ]
  },
  {
   "cell_type": "code",
   "execution_count": 19,
   "id": "c4e6248d",
   "metadata": {},
   "outputs": [],
   "source": [
    "from langchain_text_splitters import HTMLHeaderTextSplitter"
   ]
  },
  {
   "cell_type": "code",
   "execution_count": 20,
   "id": "e02f2872",
   "metadata": {},
   "outputs": [
    {
     "data": {
      "text/plain": [
       "[Document(metadata={'Header 1': 'Welcome to My Sample Page'}, page_content='Welcome to My Sample Page'),\n",
       " Document(metadata={'Header 1': 'Welcome to My Sample Page', 'Header 2': 'About This Page'}, page_content='About This Page'),\n",
       " Document(metadata={'Header 1': 'Welcome to My Sample Page', 'Header 2': 'About This Page'}, page_content='This is a document used for testing purposes.  \\nsample HTML'),\n",
       " Document(metadata={'Header 1': 'Welcome to My Sample Page', 'Header 2': 'About This Page', 'Header 3': 'List of Features'}, page_content='List of Features'),\n",
       " Document(metadata={'Header 1': 'Welcome to My Sample Page', 'Header 2': 'About This Page', 'Header 3': 'List of Features'}, page_content='HTML structure with headings  \\nParagraphs and text formatting  \\nLinks and images  \\nForms and inputs  \\nVisit for more information.  \\nExample.com'),\n",
       " Document(metadata={'Header 1': 'Welcome to My Sample Page', 'Header 2': 'About This Page', 'Header 3': 'Contact Us'}, page_content='Contact Us'),\n",
       " Document(metadata={'Header 1': 'Welcome to My Sample Page', 'Header 2': 'About This Page', 'Header 3': 'Contact Us'}, page_content='Name:  \\nEmail:')]"
      ]
     },
     "execution_count": 20,
     "metadata": {},
     "output_type": "execute_result"
    }
   ],
   "source": [
    "html_string = \"\"\" \n",
    "<!DOCTYPE html>\n",
    "<html lang=\"en\">\n",
    "<head>\n",
    "    <meta charset=\"UTF-8\">\n",
    "    <title>Sample HTML Page</title>\n",
    "</head>\n",
    "<body>\n",
    "    <h1>Welcome to My Sample Page</h1>\n",
    "    <h2>About This Page</h2>\n",
    "    <p>This is a <strong>sample HTML</strong> document used for testing purposes.</p>\n",
    "\n",
    "    <h3>List of Features</h3>\n",
    "    <ul>\n",
    "        <li>HTML structure with headings</li>\n",
    "        <li>Paragraphs and text formatting</li>\n",
    "        <li>Links and images</li>\n",
    "        <li>Forms and inputs</li>\n",
    "    </ul>\n",
    "\n",
    "    <p>Visit <a href=\"https://example.com\">Example.com</a> for more information.</p>\n",
    "\n",
    "    <img src=\"https://via.placeholder.com/150\" alt=\"Sample Image\">\n",
    "\n",
    "    <h3>Contact Us</h3>\n",
    "    <form action=\"/submit\" method=\"POST\">\n",
    "        <label for=\"name\">Name:</label>\n",
    "        <input type=\"text\" id=\"name\" name=\"name\"><br>\n",
    "\n",
    "        <label for=\"email\">Email:</label>\n",
    "        <input type=\"email\" id=\"email\" name=\"email\"><br>\n",
    "\n",
    "        <input type=\"submit\" value=\"Submit\">\n",
    "    </form>\n",
    "</body>\n",
    "</html>\n",
    "\n",
    "\"\"\"\n",
    "\n",
    "\n",
    "headers_to_split_on = [\n",
    "    (\"h1\", \"Header 1\"),\n",
    "    (\"h2\", \"Header 2\"),\n",
    "    (\"h3\", \"Header 3\")\n",
    "]\n",
    "\n",
    "html_splitter = HTMLHeaderTextSplitter(headers_to_split_on)\n",
    "html_header_splits = html_splitter.split_text(html_string)\n",
    "html_header_splits"
   ]
  },
  {
   "cell_type": "markdown",
   "id": "9d59d46e",
   "metadata": {},
   "source": [
    "### How to split JSON data"
   ]
  },
  {
   "cell_type": "code",
   "execution_count": 21,
   "id": "99b1ccad",
   "metadata": {},
   "outputs": [],
   "source": [
    "from langchain_text_splitters import RecursiveJsonSplitter"
   ]
  },
  {
   "cell_type": "code",
   "execution_count": 24,
   "id": "208fb35a",
   "metadata": {},
   "outputs": [],
   "source": [
    "json_data = {\n",
    "  \"user\": {\n",
    "    \"id\": 101,\n",
    "    \"name\": \"Alice Johnson\",\n",
    "    \"email\": \"alice@example.com\",\n",
    "    \"isActive\": True,\n",
    "    \"signupDate\": \"2024-12-01T10:30:00Z\",\n",
    "    \"profile\": {\n",
    "      \"age\": 29,\n",
    "      \"gender\": \"female\",\n",
    "      \"interests\": [\"reading\", \"traveling\", \"technology\"]\n",
    "    },\n",
    "    \"address\": {\n",
    "      \"street\": \"123 Maple Street\",\n",
    "      \"city\": \"Springfield\",\n",
    "      \"state\": \"IL\",\n",
    "      \"zip\": \"62704\"\n",
    "    },\n",
    "    \"orders\": [\n",
    "      {\n",
    "        \"orderId\": \"A1001\",\n",
    "        \"amount\": 250.75,\n",
    "        \"status\": \"shipped\"\n",
    "      },\n",
    "      {\n",
    "        \"orderId\": \"A1002\",\n",
    "        \"amount\": 89.99,\n",
    "        \"status\": \"processing\"\n",
    "      }\n",
    "    ]\n",
    "  }\n",
    "}\n"
   ]
  },
  {
   "cell_type": "code",
   "execution_count": 27,
   "id": "3f917249",
   "metadata": {},
   "outputs": [],
   "source": [
    "splitter = RecursiveJsonSplitter(max_chunk_size=100)\n",
    "json_chunks = splitter.split_json(json_data)"
   ]
  },
  {
   "cell_type": "code",
   "execution_count": 28,
   "id": "2e4628bc",
   "metadata": {},
   "outputs": [
    {
     "data": {
      "text/plain": [
       "[{'user': {'id': 101,\n",
       "   'name': 'Alice Johnson',\n",
       "   'email': 'alice@example.com',\n",
       "   'isActive': True}},\n",
       " {'user': {'signupDate': '2024-12-01T10:30:00Z',\n",
       "   'profile': {'age': 29, 'gender': 'female'}}},\n",
       " {'user': {'profile': {'interests': ['reading', 'traveling', 'technology']}}},\n",
       " {'user': {'address': {'street': '123 Maple Street',\n",
       "    'city': 'Springfield',\n",
       "    'state': 'IL'}}},\n",
       " {'user': {'address': {'zip': '62704'},\n",
       "   'orders': [{'orderId': 'A1001', 'amount': 250.75, 'status': 'shipped'},\n",
       "    {'orderId': 'A1002', 'amount': 89.99, 'status': 'processing'}]}}]"
      ]
     },
     "execution_count": 28,
     "metadata": {},
     "output_type": "execute_result"
    }
   ],
   "source": [
    "json_chunks"
   ]
  },
  {
   "cell_type": "code",
   "execution_count": 29,
   "id": "8dbe1fee",
   "metadata": {},
   "outputs": [
    {
     "data": {
      "text/plain": [
       "5"
      ]
     },
     "execution_count": 29,
     "metadata": {},
     "output_type": "execute_result"
    }
   ],
   "source": [
    "len(json_chunks)"
   ]
  },
  {
   "cell_type": "code",
   "execution_count": 30,
   "id": "9593428c",
   "metadata": {},
   "outputs": [
    {
     "data": {
      "text/plain": [
       "{'user': {'id': 101,\n",
       "  'name': 'Alice Johnson',\n",
       "  'email': 'alice@example.com',\n",
       "  'isActive': True}}"
      ]
     },
     "execution_count": 30,
     "metadata": {},
     "output_type": "execute_result"
    }
   ],
   "source": [
    "json_chunks[0]"
   ]
  },
  {
   "cell_type": "code",
   "execution_count": null,
   "id": "2cdb8560",
   "metadata": {},
   "outputs": [],
   "source": []
  }
 ],
 "metadata": {
  "kernelspec": {
   "display_name": "Python 3",
   "language": "python",
   "name": "python3"
  },
  "language_info": {
   "codemirror_mode": {
    "name": "ipython",
    "version": 3
   },
   "file_extension": ".py",
   "mimetype": "text/x-python",
   "name": "python",
   "nbconvert_exporter": "python",
   "pygments_lexer": "ipython3",
   "version": "3.13.0"
  }
 },
 "nbformat": 4,
 "nbformat_minor": 5
}
